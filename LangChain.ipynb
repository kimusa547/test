{
 "cells": [
  {
   "cell_type": "code",
   "execution_count": 1,
   "id": "66a4d342",
   "metadata": {
    "scrolled": true
   },
   "outputs": [
    {
     "name": "stdout",
     "output_type": "stream",
     "text": [
      "Requirement already satisfied: certifi==2022.12.7 in d:\\python_env\\.env\\lib\\site-packages (from -r requirements.txt (line 1)) (2022.12.7)\n",
      "Requirement already satisfied: charset-normalizer==3.1.0 in d:\\python_env\\.env\\lib\\site-packages (from -r requirements.txt (line 2)) (3.1.0)\n",
      "Requirement already satisfied: cmake==3.26.3 in d:\\python_env\\.env\\lib\\site-packages (from -r requirements.txt (line 3)) (3.26.3)\n",
      "Requirement already satisfied: colorama==0.4.6 in d:\\python_env\\.env\\lib\\site-packages (from -r requirements.txt (line 4)) (0.4.6)\n",
      "Requirement already satisfied: filelock==3.12.0 in d:\\python_env\\.env\\lib\\site-packages (from -r requirements.txt (line 5)) (3.12.0)\n",
      "Requirement already satisfied: huggingface-hub==0.13.4 in d:\\python_env\\.env\\lib\\site-packages (from -r requirements.txt (line 6)) (0.13.4)\n",
      "Requirement already satisfied: idna==3.4 in d:\\python_env\\.env\\lib\\site-packages (from -r requirements.txt (line 7)) (3.4)\n",
      "Requirement already satisfied: Jinja2==3.1.2 in d:\\python_env\\.env\\lib\\site-packages (from -r requirements.txt (line 8)) (3.1.2)\n",
      "Requirement already satisfied: MarkupSafe==2.1.2 in d:\\python_env\\.env\\lib\\site-packages (from -r requirements.txt (line 9)) (2.1.2)\n",
      "Requirement already satisfied: mpmath==1.3.0 in d:\\python_env\\.env\\lib\\site-packages (from -r requirements.txt (line 10)) (1.3.0)\n",
      "Requirement already satisfied: networkx==3.1 in d:\\python_env\\.env\\lib\\site-packages (from -r requirements.txt (line 11)) (3.1)\n",
      "Requirement already satisfied: numpy==1.24.2 in d:\\python_env\\.env\\lib\\site-packages (from -r requirements.txt (line 12)) (1.24.2)\n",
      "Requirement already satisfied: packaging==23.1 in d:\\python_env\\.env\\lib\\site-packages (from -r requirements.txt (line 13)) (23.1)\n",
      "Requirement already satisfied: PyYAML==6.0 in d:\\python_env\\.env\\lib\\site-packages (from -r requirements.txt (line 14)) (6.0)\n",
      "Requirement already satisfied: regex==2023.3.23 in d:\\python_env\\.env\\lib\\site-packages (from -r requirements.txt (line 15)) (2023.3.23)\n",
      "Requirement already satisfied: requests==2.28.2 in d:\\python_env\\.env\\lib\\site-packages (from -r requirements.txt (line 16)) (2.28.2)\n",
      "Requirement already satisfied: sympy==1.11.1 in d:\\python_env\\.env\\lib\\site-packages (from -r requirements.txt (line 17)) (1.11.1)\n",
      "Requirement already satisfied: tokenizers==0.13.3 in d:\\python_env\\.env\\lib\\site-packages (from -r requirements.txt (line 18)) (0.13.3)\n",
      "Requirement already satisfied: torch==2.0.0 in d:\\python_env\\.env\\lib\\site-packages (from -r requirements.txt (line 19)) (2.0.0)\n",
      "Requirement already satisfied: tqdm==4.65.0 in d:\\python_env\\.env\\lib\\site-packages (from -r requirements.txt (line 20)) (4.65.0)\n",
      "Requirement already satisfied: transformers==4.28.1 in d:\\python_env\\.env\\lib\\site-packages (from -r requirements.txt (line 21)) (4.28.1)\n",
      "Requirement already satisfied: typing_extensions==4.5.0 in d:\\python_env\\.env\\lib\\site-packages (from -r requirements.txt (line 22)) (4.5.0)\n",
      "Requirement already satisfied: urllib3==1.26.15 in d:\\python_env\\.env\\lib\\site-packages (from -r requirements.txt (line 23)) (1.26.15)\n"
     ]
    },
    {
     "name": "stderr",
     "output_type": "stream",
     "text": [
      "\n",
      "[notice] A new release of pip is available: 23.1 -> 23.1.2\n",
      "[notice] To update, run: python.exe -m pip install --upgrade pip\n"
     ]
    }
   ],
   "source": [
    "!pip install -r requirements.txt"
   ]
  },
  {
   "cell_type": "code",
   "execution_count": 2,
   "id": "e6941046",
   "metadata": {},
   "outputs": [],
   "source": [
    "import os\n",
    "import platform\n",
    "\n",
    "import openai\n",
    "import chromadb\n",
    "import langchain\n",
    "\n",
    "from langchain.embeddings.openai import OpenAIEmbeddings\n",
    "from langchain.vectorstores import Chroma\n",
    "from langchain.text_splitter import CharacterTextSplitter\n",
    "from langchain.chat_models import ChatOpenAI\n",
    "from langchain.chains import ConversationalRetrievalChain\n",
    "from langchain.document_loaders import PyPDFLoader"
   ]
  },
  {
   "cell_type": "code",
   "execution_count": 3,
   "id": "299c08b1",
   "metadata": {},
   "outputs": [],
   "source": [
    "#　会議録読込み\n",
    "loader = PyPDFLoader(\"000.pdf\")"
   ]
  },
  {
   "cell_type": "code",
   "execution_count": null,
   "id": "cb388e0d",
   "metadata": {},
   "outputs": [],
   "source": [
    "# PDF ドキュメントからテキストを抽出し、抽出したテキストをページごとに分割\n",
    "pages = loader.load_and_split()"
   ]
  },
  {
   "cell_type": "code",
   "execution_count": null,
   "id": "81b6f59c",
   "metadata": {},
   "outputs": [],
   "source": [
    "# OpenAI の API Key 入力　\n",
    "os.environ[\"OPENAI_API_KEY\"] = '000'\n",
    "openai.api_key = os.getenv(\"OPENAI_API_KEY\")\n",
    "# モデル選択\n",
    "llm = ChatOpenAI(temperature=0, model_name=\"gpt-3.5-turbo\")"
   ]
  },
  {
   "cell_type": "code",
   "execution_count": null,
   "id": "434a06c9",
   "metadata": {},
   "outputs": [],
   "source": [
    "# 分割したテキストについて、テキスト間の関連性に関するベクターデータをベクターストアに格納\n",
    "embeddings = OpenAIEmbeddings()\n",
    "vectorstore = Chroma.from_documents(pages, embedding=embeddings, persist_directory=\".\")\n",
    "vectorstore.persist()"
   ]
  },
  {
   "cell_type": "code",
   "execution_count": null,
   "id": "f3e21a24",
   "metadata": {},
   "outputs": [],
   "source": [
    "# 回答文の作成に関連した元テキスト群についても示すように指定\n",
    "\n",
    "pdf_qa = ConversationalRetrievalChain.from_llm(llm, vectorstore.as_retriever(), return_source_documents=True)\n",
    "\n",
    "query = \"\"\"\n",
    "以上のWeb会議の会話履歴から、000さんについて以下の項目をまとめてなさい。\n",
    "①今の仕事について（職場でのトラブル、仕事へのモチベーションなど）\n",
    "②今後のキャリアについて（今の仕事の契約更新の意向、転職の意向など）\n",
    "③体調について（怪我、病気など）\n",
    "④精神状態について（ストレス、悩み、人間関係など）\n",
    "⑤教育研修について（社内でのOJT、レクチャー、業務の引継ぎ、研修、講習など）\n",
    "⑥採用について（採用の計画、増員、他派遣スタッフの退職情報、他派遣スタッフの入社情報など）\n",
    "⑦その他の会話内容について\n",
    "\n",
    "#制約条件\n",
    "・会話履歴が日本語以外の言語であっても、日本語でまとめなさい。\n",
    "・話し合われた内容とその結論についてできる限り詳しくまとめなさい。\n",
    "・それぞれの項目について答えが複数ある場合は、箇条書きで全て記載しなさい。\n",
    "\n",
    "#出力形式\n",
    "Ｗeb会議のタイトル（1行目に記載されているので、そのまま引用しなさい）\n",
    "\n",
    "①今の仕事について\n",
    "\n",
    "\n",
    "②今後のキャリアについて\n",
    "\n",
    "\n",
    "③体調について\n",
    "\n",
    "\n",
    "④精神状態について\n",
    "\n",
    "\n",
    "⑤教育研修について\n",
    "\n",
    "\n",
    "⑥採用について\n",
    "\n",
    "\n",
    "⑦その他の会話内容について\n",
    "\n",
    "\"\"\"\n",
    "chat_history = []\n",
    "\n",
    "result = pdf_qa({\"question\": query, \"chat_history\": chat_history})"
   ]
  },
  {
   "cell_type": "code",
   "execution_count": null,
   "id": "75928be5",
   "metadata": {},
   "outputs": [],
   "source": [
    "print(result[\"answer\"])"
   ]
  },
  {
   "cell_type": "code",
   "execution_count": null,
   "id": "3e3d78a7",
   "metadata": {},
   "outputs": [],
   "source": []
  }
 ],
 "metadata": {
  "kernelspec": {
   "display_name": ".env",
   "language": "python",
   "name": ".env"
  },
  "language_info": {
   "codemirror_mode": {
    "name": "ipython",
    "version": 3
   },
   "file_extension": ".py",
   "mimetype": "text/x-python",
   "name": "python",
   "nbconvert_exporter": "python",
   "pygments_lexer": "ipython3",
   "version": "3.10.7"
  }
 },
 "nbformat": 4,
 "nbformat_minor": 5
}
